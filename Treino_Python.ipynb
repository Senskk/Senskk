{
  "nbformat": 4,
  "nbformat_minor": 0,
  "metadata": {
    "colab": {
      "provenance": [],
      "authorship_tag": "ABX9TyN/mId4ZRCtCUy8oGFzZZrs",
      "include_colab_link": true
    },
    "kernelspec": {
      "name": "python3",
      "display_name": "Python 3"
    },
    "language_info": {
      "name": "python"
    }
  },
  "cells": [
    {
      "cell_type": "markdown",
      "metadata": {
        "id": "view-in-github",
        "colab_type": "text"
      },
      "source": [
        "<a href=\"https://colab.research.google.com/github/Senskk/Senskk/blob/main/Treino_Python.ipynb\" target=\"_parent\"><img src=\"https://colab.research.google.com/assets/colab-badge.svg\" alt=\"Open In Colab\"/></a>"
      ]
    },
    {
      "cell_type": "code",
      "execution_count": null,
      "metadata": {
        "id": "t3p3LJa-1c6a"
      },
      "outputs": [],
      "source": [
        "#Desafio: 1 (Comprar Pão)\n",
        "\n",
        "\n",
        "print('Ola Senhor, o Preço do Pão é 3,99')\n",
        "preco_do_pao = 3.99\n",
        "\n",
        "carteira = float(input('Quanto Dinheiro Vôce tem? '))\n",
        "\n",
        "#Comprando Pão\n",
        "while carteira >= preco_do_pao:\n",
        "  carteira -= preco_do_pao\n",
        "  print(f'Você comprou 1 pão. Saldo Restante: {carteira:.2f} ')\n",
        "\n",
        "print('Cabo a Grana')"
      ]
    },
    {
      "cell_type": "code",
      "source": [
        "#Desafio: 2 (Temperatura)\n",
        "\n",
        "print('Informe a temperatura Atual: ')\n",
        "temp = float(input(''))\n",
        "\n",
        "baixa = 13\n",
        "normal = 20\n",
        "quente = 26\n",
        "\n",
        "\n",
        "if temp <= baixa:\n",
        "  print('TÁ MT FRIO')\n",
        "elif temp <= normal:\n",
        "  print('Climinha Bom')\n",
        "elif temp <= quente:\n",
        "  print('Tá porra que calor')\n",
        "elif temp > quente:\n",
        "  print('Tá porra que calor')"
      ],
      "metadata": {
        "colab": {
          "base_uri": "https://localhost:8080/"
        },
        "id": "39uD6njp2DUI",
        "outputId": "15d6cb25-e997-4132-c30d-edd1a5c8f5db"
      },
      "execution_count": null,
      "outputs": [
        {
          "output_type": "stream",
          "name": "stdout",
          "text": [
            "Informe a temperatura Atual: \n",
            "56\n",
            "Tá porra que calor\n"
          ]
        }
      ]
    },
    {
      "cell_type": "code",
      "source": [
        "#Desafio: 3 (Relogio)\n",
        "\n",
        "#Dados:\n",
        "#entre 6 e 11 = bom dia\n",
        "#entre 12 e 17 = boa tarde\n",
        "#entre 18 e 23 = boa noite\n",
        "#se passar de 23 = boa madrugada\n",
        "\n",
        "hora = int(input('Que horas São: '))\n",
        "\n",
        "dia = 6, 11\n",
        "tarde = 12, 17\n",
        "noite = 18, 23\n",
        "\n",
        "if dia[0] <= hora <= dia[1]:\n",
        "  print('Bom dia')\n",
        "elif tarde[0] <= hora <= tarde[1]:\n",
        "  print('Boa tarde')\n",
        "elif noite[0] <= hora <= noite[1]:\n",
        "  print('Boa Noite')\n",
        "elif hora > noite[1] or hora < dia[0]:\n",
        "  print('Boa Madrugada')\n",
        "\n",
        "\n",
        "#Anotação: Quanto a variavel recebe mais de 1 numero você na hora de escreve-la separa\n",
        "#ela em blocos.\n",
        "\n",
        "#Ex: dia =      6,      11\n",
        "#é igual a: dia[0] , dia[1]"
      ],
      "metadata": {
        "colab": {
          "base_uri": "https://localhost:8080/"
        },
        "id": "EjmsCUG_4uJ3",
        "outputId": "9d3a0dbe-ba3e-43fe-c3e9-88ce712b88f3"
      },
      "execution_count": null,
      "outputs": [
        {
          "output_type": "stream",
          "name": "stdout",
          "text": [
            "Que horas São: 17\n",
            "Boa tarde\n"
          ]
        }
      ]
    },
    {
      "cell_type": "code",
      "source": [
        "#Outra Opção para fazer o desafio 3:\n",
        "\n",
        "hora = 11\n",
        "\n",
        "if hora >= 6 and hora <= 11:\n",
        "  print('Bom dia')\n",
        "elif hora >= 12 and hora <= 18:\n",
        "  print('Boa tarde')\n",
        "elif hora >= 19 and hora <= 23:\n",
        "  print('Boa noite')\n",
        "else:\n",
        "  print('Vai dormir!')"
      ],
      "metadata": {
        "colab": {
          "base_uri": "https://localhost:8080/"
        },
        "id": "cEEUI7tAgp4w",
        "outputId": "25f6f46e-b40a-42c7-f976-1a3c34fe2931"
      },
      "execution_count": 3,
      "outputs": [
        {
          "output_type": "stream",
          "name": "stdout",
          "text": [
            "Bom dia\n"
          ]
        }
      ]
    },
    {
      "cell_type": "code",
      "source": [
        "#Desafio: 4 (Validar)\n",
        "\n",
        "#validar a entrada de atletas em uma competição\n",
        "#Para entrar: entre 18 e 35 anos\n",
        "#Precisa ter um bom condicionamento físico ou permissão médica\n",
        "#var: idade, cond_fisico, autorizacao\n",
        "\n",
        "print('Olá Quantos Anos você tem?')\n",
        "idade = int(input(''))\n",
        "\n",
        "print('E você considera seu condicionamento físico bom? (sim/não)')\n",
        "cond_fisico = input('')\n",
        "\n",
        "print('E você tem autorização medica?')\n",
        "autorizacao = input()\n",
        "\n",
        "if idade >= 18 and idade <=35 and cond_fisico == 'sim' and autorizacao == 'sim':\n",
        "  print('Pode Entrar')\n",
        "elif idade >= 18 and idade <=35 and cond_fisico == 'nao' and autorizacao == 'sim':\n",
        "  print('Pode Entrar')\n",
        "elif idade >= 18 and idade <=35 and cond_fisico == 'sim' and autorizacao == 'nao':\n",
        "  print('Não Pode Entrar')\n",
        "\n",
        "\n"
      ],
      "metadata": {
        "colab": {
          "base_uri": "https://localhost:8080/"
        },
        "id": "3XgIUZXd-hOC",
        "outputId": "708f9ea1-3fb0-409a-a3db-40ba3abd02cb"
      },
      "execution_count": null,
      "outputs": [
        {
          "output_type": "stream",
          "name": "stdout",
          "text": [
            "Olá Quantos Anos você tem?\n",
            "35\n",
            "E você considera seu condicionamento físico bom? (sim/não)\n",
            "sim\n",
            "E você tem autorização medica?\n",
            "nao\n",
            "Não Pode Entrar\n"
          ]
        }
      ]
    },
    {
      "cell_type": "code",
      "source": [
        "#Outra Forma de Fazer o Desafio 4\n",
        "\n",
        "idade = 20\n",
        "cond_fisico = False\n",
        "autorizacao = True\n",
        "\n",
        "if idade >= 18 and (cond_fisico or autorizacao):\n",
        "  print('Pode Participar')\n",
        "else:\n",
        "  print('Pode nao fi')"
      ],
      "metadata": {
        "colab": {
          "base_uri": "https://localhost:8080/"
        },
        "id": "7TU_pFPHhUTC",
        "outputId": "15a6f78c-b8b9-4e70-ed65-fe2b7085fb47"
      },
      "execution_count": 4,
      "outputs": [
        {
          "output_type": "stream",
          "name": "stdout",
          "text": [
            "Pode Participar\n"
          ]
        }
      ]
    }
  ]
}